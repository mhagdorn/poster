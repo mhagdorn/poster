{
 "cells": [
  {
   "cell_type": "markdown",
   "metadata": {},
   "source": [
    "# Pay Rises and Inflation\n",
    "\n",
    "In order to compute pay rises and compare them to inflation we need to apply the compound formula. Assume and increase of $r_1$ perent in year 1. The new salary $S_1$ is then computed from the starting salary $S_0$\n",
    "$$S_1 = \\left(1+\\frac{r_1}{100}\\right)S_0$$\n",
    "in year 2 with increase $r_2$ we have\n",
    "$$S_2 = \\left(1+\\frac{r_2}{100}\\right)S_1=\\left(1+\\frac{r_2}{100}\\right)\\left(1+\\frac{r_1}{100}\\right)S_0$$\n",
    "and in year $n$\n",
    "$$S_n = \\prod^n_i\\left(1+\\frac{r_i}{100}\\right)S_0$$\n",
    "\n",
    "Every year we are getting a pay rise $P_i$ (in percent) negotiated nationally with the union. However, life is also getting more expensive. There are various measures for the inflation rate $I_i$. I use CPI here. \n"
   ]
  },
  {
   "cell_type": "code",
   "execution_count": 4,
   "metadata": {},
   "outputs": [],
   "source": [
    "import pandas"
   ]
  },
  {
   "cell_type": "code",
   "execution_count": 10,
   "metadata": {},
   "outputs": [
    {
     "data": {
      "text/plain": [
       "<matplotlib.axes._subplots.AxesSubplot at 0x7f7715a40e50>"
      ]
     },
     "execution_count": 10,
     "metadata": {},
     "output_type": "execute_result"
    },
    {
     "data": {
      "image/png": "[encoded data removed]",
      "text/plain": [
       "<Figure size 432x288 with 1 Axes>"
      ]
     },
     "metadata": {
      "needs_background": "light"
     },
     "output_type": "display_data"
    }
   ],
   "source": [
    "cpi_and_pay = pandas.read_csv('data/inflation_pay.csv', index_col='year')\n",
    "cpi_and_pay.plot()"
   ]
  },
  {
   "cell_type": "markdown",
   "metadata": {},
   "source": [
    "Using the compound formula above we can compute the salary in year $n$ $S^P_i$ due to actual pay rises and what it should have been if it had kept up with inflation $S^I_i$:\n",
    "$$S^P_n = \\prod^n_i\\left(1+\\frac{P_i}{100}\\right)S_0$$\n",
    "$$S^I_n = \\prod^n_i\\left(1+\\frac{I_i}{100}\\right)S_0$$\n",
    "The graph shows that the inflation rate tends to be larger than the pay rises. Our salary should then be larger by \n",
    "$$\\left(\\frac{S^I_n}{S^P_n}-1\\right)*100$$"
   ]
  },
  {
   "cell_type": "code",
   "execution_count": 12,
   "metadata": {},
   "outputs": [],
   "source": [
    "def compound(data, col, year):\n",
    "    c = 1\n",
    "    for rate in data[col].loc[:year]:\n",
    "        c = c*(1+rate/100)\n",
    "    return c"
   ]
  },
  {
   "cell_type": "code",
   "execution_count": 15,
   "metadata": {},
   "outputs": [
    {
     "data": {
      "text/plain": [
       "12.858510502259657"
      ]
     },
     "execution_count": 15,
     "metadata": {},
     "output_type": "execute_result"
    }
   ],
   "source": [
    "(compound(cpi_and_pay, 'cpi',2021)/compound(cpi_and_pay, 'pay_increase',2021)-1)*100"
   ]
  },
  {
   "cell_type": "code",
   "execution_count": 16,
   "metadata": {},
   "outputs": [
    {
     "data": {
      "text/plain": [
       "23.839833256605015"
      ]
     },
     "execution_count": 16,
     "metadata": {},
     "output_type": "execute_result"
    }
   ],
   "source": [
    "(compound(cpi_and_pay, 'rpi',2021)/compound(cpi_and_pay, 'pay_increase',2021)-1)*100"
   ]
  },
  {
   "cell_type": "markdown",
   "metadata": {},
   "source": [
    "So, our pay in 2021 should have been 23.84% larger if it had kept up with inflation as measured by RPI."
   ]
  },
  {
   "cell_type": "markdown",
   "metadata": {},
   "source": [
    "We can also compute the total salary lost over those years. In year $j$ we have lost\n",
    "$$L_j = S^I_j - S^P_j$$\n",
    "and the total lost is then\n",
    "$$L = \\sum_j^n\\left(S^I_j - S^P_j\\right)$$"
   ]
  },
  {
   "cell_type": "markdown",
   "metadata": {},
   "source": [
    "Assuming the median salary of 36000 pound in 2020 we need to calculate what it would have been like in 2009:\n",
    "$$S_0 = \\frac{S_n}{\\prod^n_i\\left(1+\\frac{P_i}{100}\\right)}$$"
   ]
  },
  {
   "cell_type": "code",
   "execution_count": 17,
   "metadata": {},
   "outputs": [
    {
     "data": {
      "text/plain": [
       "31360.43761616677"
      ]
     },
     "execution_count": 17,
     "metadata": {},
     "output_type": "execute_result"
    }
   ],
   "source": [
    "median_salary = 36000\n",
    "salary = median_salary/compound(cpi_and_pay, 'pay_increase',2021)\n",
    "salary"
   ]
  },
  {
   "cell_type": "markdown",
   "metadata": {},
   "source": [
    "So the median salary in 2009 was 31799 pounds."
   ]
  },
  {
   "cell_type": "code",
   "execution_count": 18,
   "metadata": {},
   "outputs": [
    {
     "data": {
      "text/plain": [
       "59454.80059127253"
      ]
     },
     "execution_count": 18,
     "metadata": {},
     "output_type": "execute_result"
    }
   ],
   "source": [
    "total = 0\n",
    "for y in cpi_and_pay.index:\n",
    "    loss = (compound(cpi_and_pay, 'rpi', y) - compound(cpi_and_pay, 'pay_increase',y))*salary\n",
    "    total += loss\n",
    "total"
   ]
  },
  {
   "cell_type": "markdown",
   "metadata": {},
   "source": [
    "## Summary\n",
    "If our salary had kept up with inflation it should be about 24% larger. If you are on the median salary of 36000 this would be 8640 pounds more, ie 44640 pounds in 2021. Since 2009 they would have lost 59454 pounds in total."
   ]
  },
  {
   "cell_type": "code",
   "execution_count": null,
   "metadata": {},
   "outputs": [],
   "source": []
  }
 ],
 "metadata": {
  "kernelspec": {
   "display_name": "Python 3",
   "language": "python",
   "name": "python3"
  },
  "language_info": {
   "codemirror_mode": {
    "name": "ipython",
    "version": 3
   },
   "file_extension": ".py",
   "mimetype": "text/x-python",
   "name": "python",
   "nbconvert_exporter": "python",
   "pygments_lexer": "ipython3",
   "version": "3.8.10"
  }
 },
 "nbformat": 4,
 "nbformat_minor": 4
}
